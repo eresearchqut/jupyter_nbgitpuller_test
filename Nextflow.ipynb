{
 "cells": [
  {
   "cell_type": "markdown",
   "id": "9ef81422-6e08-4e15-930e-88ff6e29c0d1",
   "metadata": {},
   "source": [
    "# Installing and using Nextflow"
   ]
  },
  {
   "cell_type": "markdown",
   "id": "5c17a7e6-6c21-4d85-a367-068486bf23d8",
   "metadata": {},
   "source": [
    "This is a [Jupyter notebook](https://jupyter.org/) containing a guide for installing [Nextflow](https://www.nextflow.io/) on the QUT HPC.\n",
    "\n",
    "Prepared by the [eResearch Office, QUT.](https://qutvirtual4.qut.edu.au/group/staff/governance/organisational-structure/academic-division/research-portfolio/research-infrastructure/eresearch)\n",
    "\n",
    "Nextflow is a pipeline engine that can take advantage of the batch nature of the HPC environment to efficiently and quickly run Bioinformatic workflows.\n",
    "\n",
    "For more information about Nextflow, please visit [Nextflow - A DSL for parallel and scalable computational pipelines](https://www.nextflow.io/)"
   ]
  },
  {
   "cell_type": "markdown",
   "id": "61b19281-a886-4661-a7e1-c36dc97bec9f",
   "metadata": {},
   "source": [
    "**********************************"
   ]
  },
  {
   "cell_type": "markdown",
   "id": "f4f0edbe-5a57-40af-8449-f9f1d36eb134",
   "metadata": {
    "tags": []
   },
   "source": [
    "# Contents\n",
    "[1. How to use this notebook](#overview)\n",
    "\n",
    "[2. Installing Nextflow](#install)\n",
    "\n",
    "[3. Testing Nextflow](#test)\n",
    "\n",
    "[4. Updating Nextflow](#update)\n",
    "\n",
    "[5. Running a specific Nextflow pipeline](#pipeline)\n",
    "\n",
    "[6. Using the Nextflow Tower](#tower)\n"
   ]
  },
  {
   "cell_type": "markdown",
   "id": "004b938d-87ef-4452-a0db-1f10750a402b",
   "metadata": {},
   "source": [
    "***************************"
   ]
  },
  {
   "cell_type": "markdown",
   "id": "46e413cf-353a-4183-b82d-30df46c2bf64",
   "metadata": {},
   "source": [
    "## How to use this notebook <a class=\"anchor\" id=\"overview\"></a>"
   ]
  },
  {
   "cell_type": "markdown",
   "id": "c0194de2-899d-4784-b1c3-c48c594c9c61",
   "metadata": {},
   "source": [
    "Juypter Notebooks run a 'kernel' that allow code to be run in code 'cells' in the Notebook. This Notebook is running the BASH kernel, which allows for commands to be run on QUTs HPC."
   ]
  },
  {
   "cell_type": "markdown",
   "id": "c7879560-237b-4c49-9178-ed9d44a7f42a",
   "metadata": {},
   "source": [
    "You can run a code cell by clicking on the cell itself and clicking the run button, or by pressing shift+enter. As an example, run the following code cell to list the contents of your HPC home directory."
   ]
  },
  {
   "cell_type": "code",
   "execution_count": null,
   "id": "25cb5bcc-41ec-473c-985e-34f149af1c5f",
   "metadata": {
    "tags": []
   },
   "outputs": [],
   "source": [
    "ls $HOME"
   ]
  },
  {
   "cell_type": "markdown",
   "id": "efc136b5-8199-464e-bef6-8e34fd814569",
   "metadata": {},
   "source": [
    "In this guide you will find instructions and code cells to run that will install, set up and test Nextflow on your HPC account."
   ]
  },
  {
   "cell_type": "markdown",
   "id": "612dd94b-6897-42ad-b554-8d11fc0ef8a9",
   "metadata": {},
   "source": [
    "*******************************"
   ]
  },
  {
   "cell_type": "markdown",
   "id": "41bbe64c-7ac6-402e-aa62-c68cf35b37a7",
   "metadata": {},
   "source": [
    "## Installing Nextflow <a class=\"anchor\" id=\"install\"></a>"
   ]
  },
  {
   "cell_type": "markdown",
   "id": "82bacade-d7dc-44cd-ace2-bec94020b3fc",
   "metadata": {},
   "source": [
    "If you're unsure if you've previously installed Nextflow, you can run the following to see if Nextflow is intalled and what version you have installed."
   ]
  },
  {
   "cell_type": "code",
   "execution_count": null,
   "id": "23dcf9d7-2882-42f1-9d36-b668576bceb4",
   "metadata": {
    "tags": []
   },
   "outputs": [],
   "source": [
    "nextflow -version"
   ]
  },
  {
   "cell_type": "markdown",
   "id": "3af0bb32-4fd2-47bd-b251-04dcc2aea61a",
   "metadata": {},
   "source": [
    "If you would like to update to the latest version of Nextflow (recommended), go to the next section: \"Updating nextflow\"."
   ]
  },
  {
   "cell_type": "markdown",
   "id": "70221118-8574-4727-bb6f-72d7ab240649",
   "metadata": {},
   "source": [
    "If 'nextflow -version' gives you an error then Nextflow is not installed or incorrectly installed. To install Nextflow, run the following:"
   ]
  },
  {
   "cell_type": "code",
   "execution_count": null,
   "id": "6cba81ec-2011-4afe-9625-cb2d19cc2f98",
   "metadata": {},
   "outputs": [],
   "source": [
    "module load java\n",
    "curl -s https://get.nextflow.io | bash\n",
    "mv nextflow $HOME/bin"
   ]
  },
  {
   "cell_type": "markdown",
   "id": "c67620b2-c5b4-405b-965b-bf168a63d7fd",
   "metadata": {},
   "source": [
    "To complete the setup, you will need to run the following code to set the parameters required to run Nextflow on the QUT HPC."
   ]
  },
  {
   "cell_type": "code",
   "execution_count": null,
   "id": "64908e0c-9123-47d5-a223-7f45edc6093a",
   "metadata": {},
   "outputs": [],
   "source": [
    "[[ -d $HOME/.nextflow ]] || mkdir -p $HOME/.nextflow\n",
    "cat <<EOF > $HOME/.nextflow/config\n",
    "singularity {\n",
    "    cacheDir = '$HOME/.nextflow/NXF_SINGULARITY_CACHEDIR'\n",
    "    autoMounts = true\n",
    "}\n",
    "conda {\n",
    "    cacheDir = '$HOME/.nextflow/NXF_CONDA_CACHEDIR'\n",
    "}\n",
    "process {\n",
    "  executor = 'pbspro'\n",
    "  scratch = false\n",
    "  cleanup = false\n",
    "}\n",
    "EOF"
   ]
  },
  {
   "cell_type": "markdown",
   "id": "3a601acd-a091-4092-9329-163cc4c07f60",
   "metadata": {},
   "source": [
    "******************************************"
   ]
  },
  {
   "cell_type": "markdown",
   "id": "473fc7cf-d146-4357-bf3b-8e0971acf3c3",
   "metadata": {},
   "source": [
    "## Testing Nextflow <a class=\"anchor\" id=\"test\"></a>"
   ]
  },
  {
   "cell_type": "markdown",
   "id": "7d5f62f6-914f-4a11-855b-7b647a135338",
   "metadata": {},
   "source": [
    "To check if Nextflow has been installed and set up correctly (even if you have previously installed Nextflow), you can run the test 'hello world' pipeline."
   ]
  },
  {
   "cell_type": "code",
   "execution_count": null,
   "id": "9ea4cf93-7268-44c1-b93f-43bafea3fc08",
   "metadata": {
    "tags": []
   },
   "outputs": [],
   "source": [
    "mkdir $HOME/nftemp && cd $HOME/nftemp\n",
    "nextflow run hello\n",
    "#check for output of running the short nextflow hello pipeline\n",
    "cd $HOME\n",
    "rm -rf nftemp"
   ]
  },
  {
   "cell_type": "markdown",
   "id": "65e7df77-28ca-4c90-8722-bd99654c6f4f",
   "metadata": {},
   "source": [
    "If you see \"Hello world!\" (and \"Bonjour world!\", etc) then you've installed and setup Nextflow correctly.\n",
    "\n",
    "**NOTE** If you get a 'Your local project version looks outdated' error, you'll need to pull down the latest version of the 'hello' workflow, like so:"
   ]
  },
  {
   "cell_type": "code",
   "execution_count": null,
   "id": "7bc74bd6-d22f-45e8-8141-de07c5c780e3",
   "metadata": {
    "tags": []
   },
   "outputs": [],
   "source": [
    "nextflow pull hello"
   ]
  },
  {
   "cell_type": "markdown",
   "id": "f94d0973-2db3-4b17-b9d1-e87c60fa2dbc",
   "metadata": {},
   "source": [
    "Then you should be able to run the previous 'nextflow run hello' command."
   ]
  },
  {
   "cell_type": "markdown",
   "id": "660088b6-58f6-4412-a2be-a39e65539dda",
   "metadata": {},
   "source": [
    "If you are still getting errors when trying to run the Hello World pipeline, contact the eResearch team by logging a request through the portal: https://eresearchqut.atlassian.net/servicedesk/customer/portals"
   ]
  },
  {
   "cell_type": "markdown",
   "id": "2e266da2-c9f5-45b1-8574-dbd4269e09f6",
   "metadata": {},
   "source": [
    "************************************************"
   ]
  },
  {
   "cell_type": "markdown",
   "id": "e800be9b-55a0-43ce-a30f-d9954e02aa2e",
   "metadata": {},
   "source": [
    "## Updating Nextflow <a class=\"anchor\" id=\"update\"></a>"
   ]
  },
  {
   "cell_type": "markdown",
   "id": "e82ffa7c-2b24-4269-8598-c2952db7d42a",
   "metadata": {},
   "source": [
    "To update Nextflow to the current version, run the following:"
   ]
  },
  {
   "cell_type": "code",
   "execution_count": null,
   "id": "9932bd91-58ca-4dde-b0c5-cc0bea4a52e6",
   "metadata": {
    "tags": []
   },
   "outputs": [],
   "source": [
    "nextflow self-update"
   ]
  },
  {
   "cell_type": "markdown",
   "id": "9977531d-25f9-4eeb-b320-295e4f71348b",
   "metadata": {},
   "source": [
    "If successful, you should see a 'Nextflow installation completed' message."
   ]
  },
  {
   "cell_type": "markdown",
   "id": "eda6ba07-25d1-45c5-8389-6d4b461cd1a4",
   "metadata": {},
   "source": [
    "*********************"
   ]
  },
  {
   "cell_type": "markdown",
   "id": "287eb5a6-9c61-4e72-8def-caa5b78d4db0",
   "metadata": {},
   "source": [
    "## Running a specific Nextflow pipeline <a class=\"anchor\" id=\"pipeline\"></a>"
   ]
  },
  {
   "cell_type": "markdown",
   "id": "b15a9af2-10e0-4c97-a7f4-eb4cada34834",
   "metadata": {
    "tags": []
   },
   "source": [
    "There are a large number of Nextflow workflows, covering a wide range of omics analyses. [Nfcore](https://nf-co.re/) is the main repository with (at the time of writing this Notebook) 80 published pipelines:\n",
    "\n",
    "https://nf-co.re/pipelines\n",
    "\n",
    "Click on an nfcore pipeline from the link above (e.g. https://nf-co.re/rnaseq) and you'll see some default tabs - 'Introduction' will explain the pipeline and the tools used, 'Usage docs' will show you an example of a typical command to run that pipeline, 'Parameters' will show the paramaters than can be added or modified in the run command, and 'Output docs' will show the results generated by the workflow.\n",
    "\n",
    "eResearch has written user guides for running some of these pipelines on the QUT HPC, but almost all nfcore workflows have a similar structure. A typical command has this structure: "
   ]
  },
  {
   "cell_type": "markdown",
   "id": "f1026148-3560-45a7-8635-d10b29b8fa6a",
   "metadata": {},
   "source": [
    "`nextflow run {pipeline name} {options}`"
   ]
  },
  {
   "cell_type": "markdown",
   "id": "9288d779-3c87-47f1-aee5-49fdcb00d71f",
   "metadata": {},
   "source": [
    "However, it is good practice and much safer to submit a job on the HPC to run Nextflow on your pipeline. A job file (called launch.pbs) to run the nfcore RNA-Seq pipeline might look like:"
   ]
  },
  {
   "cell_type": "code",
   "execution_count": null,
   "id": "12b87d7b-f187-466e-bcc4-2942de6194d3",
   "metadata": {
    "tags": []
   },
   "outputs": [],
   "source": [
    "#!/bin/bash -l\n",
    "#PBS -N MyNextflowRun\n",
    "#PBS -l select=1:ncpus=2:mem=4gb\n",
    "#PBS -l walltime=24:00:00\n",
    "cd $PBS_O_WORKDIR\n",
    "module load java\n",
    "NXF_OPTS='-Xms1g -Xmx4g'\n",
    "nextflow run nf-core/rnaseq"
   ]
  },
  {
   "cell_type": "markdown",
   "id": "76cf01b4-c369-416e-8119-e801c8d93b87",
   "metadata": {},
   "source": [
    "What do these lines mean?\n",
    "\n",
    "Lines 1-5 are typical PBS system commands, here the name of the job is MyNextflowRun, 2 CPUS and 4gb of ram is selected, and the job will run for 24 hours. This is the total time for the pipeline run - it may take days or weeks depending on how much data and the pipeline.\n",
    "\n",
    "Line 6 is to ensure the java environment is available (Nextflow needs Java to run)\n",
    "\n",
    "Line 7 tells Nextflow how much ram to use\n",
    "\n",
    "Line 8 runs Nextflow.\n",
    "\n",
    "To see the output of Nextflow while running as a job you can use the Nextflow Tower."
   ]
  },
  {
   "cell_type": "markdown",
   "id": "9471c205-a33f-46b1-8bc3-a15f8a2ae974",
   "metadata": {},
   "source": [
    "****************************"
   ]
  },
  {
   "cell_type": "markdown",
   "id": "95377f51-98fa-4422-bd98-4e415bf1e79e",
   "metadata": {},
   "source": [
    "## Using the Nextflow Tower <a class=\"anchor\" id=\"tower\"></a>"
   ]
  },
  {
   "cell_type": "markdown",
   "id": "8b764efb-3079-45af-997f-4e4deea7db97",
   "metadata": {},
   "source": [
    "Nextflow Tower allow monitoring of Nextflow runs. To use the NFTower, please visit\n",
    "\n",
    "https://nftower.qut.edu.au or the [BioCommons: Nextflow Tower](https://tower.services.biocommons.org.au/login)\n",
    "\n",
    "There are no passwords for the Tower, instead, you use a link sent to your email.\n",
    "\n",
    "Look for the Sign in button (Top Right) then provide your email address.\n",
    "\n",
    "In the email that comes from eresearch@qut.edu.au, look for the “Access Nextflow Tower now!” option."
   ]
  },
  {
   "cell_type": "code",
   "execution_count": null,
   "id": "469dfd48-3067-49b5-aee7-a15059686821",
   "metadata": {},
   "outputs": [],
   "source": []
  }
 ],
 "metadata": {
  "kernelspec": {
   "display_name": "Bash .conda-jupyterhub *",
   "language": "bash",
   "name": "conda-env-.conda-jupyterhub-bash"
  },
  "language_info": {
   "codemirror_mode": "shell",
   "file_extension": ".sh",
   "mimetype": "text/x-sh",
   "name": "bash"
  }
 },
 "nbformat": 4,
 "nbformat_minor": 5
}
